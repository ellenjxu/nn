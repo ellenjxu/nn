{
 "cells": [
  {
   "attachments": {},
   "cell_type": "markdown",
   "metadata": {},
   "source": [
    "### CNN building blocks "
   ]
  },
  {
   "attachments": {},
   "cell_type": "markdown",
   "metadata": {},
   "source": [
    "Understanding wiki page: https://en.wikipedia.org/wiki/Convolutional_neural_network"
   ]
  },
  {
   "attachments": {},
   "cell_type": "markdown",
   "metadata": {},
   "source": [
    "Convolution\n",
    "- Useful for CNNs, solving differential equations, multiplying polynomial coeffs, prob, etc\n",
    "\n",
    "Equation: interpret as g having its input reversed and marching along the t (time) dimension\n",
    "![image](https://user-images.githubusercontent.com/56745453/216858768-e60aefad-fc00-4ec7-827e-f7529e5f52cf.png)\n",
    "\n",
    "Discrete version:\n",
    "![image](https://user-images.githubusercontent.com/56745453/216858618-0bda89b3-4d53-4b34-a669-3b243a4f414e.png)\n",
    "\n",
    "\n",
    "<!-- ![convolution](https://upload.wikimedia.org/wikipedia/commons/6/6a/Convolution_of_box_signal_with_itself2.gif) -->"
   ]
  },
  {
   "cell_type": "code",
   "execution_count": 2,
   "metadata": {},
   "outputs": [],
   "source": [
    "# convs of lists, ex. probabilities on pairs of dice\n",
    "\n",
    "def conv_list(a, b):\n",
    "  # output list will be of length len(a) + len(b) - 1\n",
    "  ans_len = len(a) + len(b)\n",
    "  ans = []\n",
    "  \n",
    "  for n in range(2,ans_len+1):\n",
    "    # get all (i,j) pairs that sum to n\n",
    "    sum = 0\n",
    "    for i in range(1,n):\n",
    "      j = n - i\n",
    "      if i <= len(a) and j <= len(b):\n",
    "        sum += a[i-1] * b[j-1] # multiply and sum\n",
    "    ans.append(sum)\n",
    "  \n",
    "  return ans"
   ]
  },
  {
   "cell_type": "code",
   "execution_count": 5,
   "metadata": {},
   "outputs": [
    {
     "name": "stdout",
     "output_type": "stream",
     "text": [
      "[ 4 13 28 27 18]\n",
      "[4, 13, 28, 27, 18]\n",
      "[1, 4, 10, 20, 35, 56, 84, 120, 165, 220, 264, 296, 315, 320, 310, 284, 241, 180, 100]\n",
      "[  1   4  10  20  35  56  84 120 165 220 264 296 315 320 310 284 241 180\n",
      " 100]\n"
     ]
    }
   ],
   "source": [
    "a = [1,2,3]\n",
    "b = [4,5,6]\n",
    "\n",
    "import numpy as np\n",
    "\n",
    "print(np.convolve(a, b))\n",
    "print(conv_list(a,b))\n",
    "\n",
    "print(conv_list([1,2,3,4,5,6,7,8,9,10], [1,2,3,4,5,6,7,8,9,10])) # woot woot\n",
    "print(np.convolve([1,2,3,4,5,6,7,8,9,10], [1,2,3,4,5,6,7,8,9,10]))"
   ]
  },
  {
   "cell_type": "code",
   "execution_count": 12,
   "metadata": {},
   "outputs": [],
   "source": [
    "# example: averaging\n",
    "\n",
    "dist = [0.1]*5 + [1.0]*5 + [0.1]*5 + [1.0]*5 + [0.1]*5\n",
    "coeff = [0.2]*5 \n",
    "\n",
    "avg_dist = conv_list(dist, coeff)"
   ]
  },
  {
   "cell_type": "code",
   "execution_count": 17,
   "metadata": {},
   "outputs": [
    {
     "data": {
      "text/plain": [
       "<BarContainer object of 29 artists>"
      ]
     },
     "execution_count": 17,
     "metadata": {},
     "output_type": "execute_result"
    },
    {
     "data": {
      "image/png": "[encoded data removed]",
      "text/plain": [
       "<Figure size 640x480 with 1 Axes>"
      ]
     },
     "metadata": {},
     "output_type": "display_data"
    },
    {
     "data": {
      "image/png": "[encoded data removed]",
      "text/plain": [
       "<Figure size 640x480 with 1 Axes>"
      ]
     },
     "metadata": {},
     "output_type": "display_data"
    }
   ],
   "source": [
    "import matplotlib.pyplot as plt\n",
    "\n",
    "# plot each element of dist as a rectangular bin\n",
    "plt.bar(range(len(dist)), dist, width=1, color='b', alpha=0.5)\n",
    "# separate plot with avg_dist\n",
    "plt.figure()\n",
    "plt.bar(range(len(avg_dist)), avg_dist, width=1, color='r', alpha=0.5) # beautiful!"
   ]
  },
  {
   "cell_type": "code",
   "execution_count": 23,
   "metadata": {},
   "outputs": [
    {
     "data": {
      "text/plain": [
       "[2, 7, 16, 17, 12]"
      ]
     },
     "execution_count": 23,
     "metadata": {},
     "output_type": "execute_result"
    }
   ],
   "source": [
    "# another example: polynomial coefficients\n",
    "# (also see ../fourier/fourier.ipynb for example of FFT and convolving polynomials)\n",
    "\n",
    "# 2x^2 + 3x + 4\n",
    "p1 = [2,3,4]\n",
    "p2 = [1,2,3] # 1x^2 + 2x + 3\n",
    "\n",
    "conv_list(p1, p2) # [2, 7, 16, 15, 12]"
   ]
  },
  {
   "attachments": {},
   "cell_type": "markdown",
   "metadata": {},
   "source": [
    "FFT can be used to improve convolutions by using \"circular convolution theorem\" - think of the complex unit circle and how some of the values are repeated, which can be used to compute the convolution faster instead of using O(N^2) computations (using the FFT, it's O(NlogN)"
   ]
  },
  {
   "attachments": {},
   "cell_type": "markdown",
   "metadata": {},
   "source": [
    "Also useful for solving differential equations; convolution theorem for solving Laplace transforms L(f*g) = FG where * is convolution and F is L(f) and G is L(g)"
   ]
  },
  {
   "cell_type": "markdown",
   "metadata": {},
   "source": []
  }
 ],
 "metadata": {
  "kernelspec": {
   "display_name": "ml",
   "language": "python",
   "name": "python3"
  },
  "language_info": {
   "codemirror_mode": {
    "name": "ipython",
    "version": 3
   },
   "file_extension": ".py",
   "mimetype": "text/x-python",
   "name": "python",
   "nbconvert_exporter": "python",
   "pygments_lexer": "ipython3",
   "version": "3.9.13"
  },
  "orig_nbformat": 4,
  "vscode": {
   "interpreter": {
    "hash": "696138aadfbb39da019b0f4a82f739b9650213a50720b5fab5db3742a6f6c84f"
   }
  }
 },
 "nbformat": 4,
 "nbformat_minor": 2
}
